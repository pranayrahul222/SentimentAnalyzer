{
 "cells": [
  {
   "cell_type": "code",
   "execution_count": null,
   "metadata": {},
   "outputs": [],
   "source": [
    "import time\n",
    "import csv\n",
    "import requests\n",
    "from textblob import TextBlob\n",
    "from  bs4 import BeautifulSoup\n",
    "import matplotlib.pyplot as plt"
   ]
  },
  {
   "cell_type": "code",
   "execution_count": null,
   "metadata": {},
   "outputs": [],
   "source": [
    "def percentage(part,whole):\n",
    "    return 100*float(part)/float(whole)\n",
    "def piechart(positive,neutral,negative,n_reviews,company):\n",
    "    labels = ['Positive ['+str(positive)+'%]', 'Neutral [' + str(neutral) + '%]', 'Negative [' + str(negative) + '%]']\n",
    "    sizes = [positive, neutral, negative]\n",
    "    colors = ['yellowgreen', 'gold', 'red']\n",
    "    patches, texts = plt.pie(sizes, colors=colors, startangle=90)\n",
    "    plt.legend(patches, labels, loc=\"best\")\n",
    "    plt.title('How people are reacting on '+company+' Phones '+'by Analysing '+str(n_reviews)+' No of Reviews')\n",
    "    plt.axis('equal')\n",
    "    plt.tight_layout()\n",
    "    plt.show()\n",
    "positive = [0,0]\n",
    "negative = [0,0]\n",
    "neutral  = [0,0]\n",
    "n_Apple = 0\n",
    "n_Samsung = 0              \n"
   ]
  },
  {
   "cell_type": "code",
   "execution_count": null,
   "metadata": {},
   "outputs": [],
   "source": [
    "\n",
    "for i in range(1,10):\n",
    "    if(i==1):\n",
    "        url=\"https://www.cnet.com/topics/phones/products/?filter=manufacturer_samsung_manufacturer_apple\"\n",
    "        csv_file = open('appleVSsamsung.csv','w')\n",
    "        csv_writer = csv.writer(csv_file)\n",
    "        csv_writer.writerow([\"Product\",\"Review\",\"Polarity\"])\n",
    "    else:\n",
    "        url='https://www.cnet.com/topics/phones/products/'+str(i)+'/?filter=manufacturer_samsung_manufacturer_apple'\n",
    "    try:\n",
    "        web_site = requests.get(url,verify=False)\n",
    "    except Exception as e:\n",
    "         None\n",
    "    time.sleep(5)\n",
    "    content = BeautifulSoup(web_site.content,'html.parser')\n",
    "    blocks = content.find_all('div',class_='itemInfo')\n",
    "    time.sleep(2)\n",
    "     \n",
    "    for review in blocks:\n",
    "        #list_review = [review.a.text.strip(),review.p.text,str(format(TextBlob(review.p.text).sentiment.polarity,'.2f')).strip()]\n",
    "        try:\n",
    "            name_p = review.a.h3.text.strip()\n",
    "            review_p = review.p.text\n",
    "            polarity_p = TextBlob(review_p).sentiment.polarity\n",
    "            if 'Apple' in name_p:\n",
    "                if polarity_p==0:\n",
    "                    neutral[0]+=1\n",
    "                elif polarity_p<0.2:\n",
    "                    negative[0]+=1\n",
    "                elif polarity_p>0.2:\n",
    "                    positive[0]+=1\n",
    "                n_Apple+=1\n",
    "            else:\n",
    "                if polarity_p==0:\n",
    "                    neutral[1]+=1\n",
    "                elif polarity_p<0.2:\n",
    "                    negative[1]+=1\n",
    "                elif polarity_p>0.2:\n",
    "                    positive[1]+=1\n",
    "                n_Samsung+=1 \n",
    "            csv_writer.writerow([name_p,review_p,polarity_p])\n",
    "        except Exception:\n",
    "            None\n",
    "csv_file.close()\n",
    "print(n_Apple+n_Samsung)\n",
    "Apple_pos = format(percentage(positive[0],n_Apple),'.2f')\n",
    "Apple_neg = format(percentage(negative[0],n_Apple),'.2f')\n",
    "Apple_neu = format(percentage(neutral[0],n_Apple),'.2f')\n",
    "\n",
    "Samsung_pos = format(percentage(positive[0],n_Samsung),'.2f')\n",
    "Samsung_neg = format(percentage(negative[0],n_Samsung),'.2f')\n",
    "Samsung_neu = format(percentage(neutral[1],n_Samsung),'.2f')\n",
    "piechart(Apple_pos,Apple_neu,Apple_neg,n_Apple,'Apple')\n",
    "piechart(Samsung_pos,Samsung_neu,Samsung_neg,n_Samsung,'Samsung')\n",
    "\n"
   ]
  },
  {
   "cell_type": "code",
   "execution_count": null,
   "metadata": {},
   "outputs": [],
   "source": []
  },
  {
   "cell_type": "code",
   "execution_count": null,
   "metadata": {},
   "outputs": [],
   "source": []
  }
 ],
 "metadata": {
  "kernelspec": {
   "display_name": "Python 3",
   "language": "python",
   "name": "python3"
  },
  "language_info": {
   "codemirror_mode": {
    "name": "ipython",
    "version": 3
   },
   "file_extension": ".py",
   "mimetype": "text/x-python",
   "name": "python",
   "nbconvert_exporter": "python",
   "pygments_lexer": "ipython3",
   "version": "3.6.4"
  }
 },
 "nbformat": 4,
 "nbformat_minor": 2
}
